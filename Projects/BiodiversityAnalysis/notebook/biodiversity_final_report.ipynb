{
 "cells": [
  {
   "attachments": {},
   "cell_type": "markdown",
   "metadata": {},
   "source": [
    "Objective:\n",
    "The goal of this project is to identify patterns in species endangerment using data from a given 7 day span. We aim to analyze species categories, observation counts, and park distributions to uncover trends related to conservation concerns.\n",
    "\n",
    "- background of each park\n",
    "- understanding the species categories\n",
    "- understanding the observations\n",
    "\n",
    "Questions:\n",
    "- Which biological species have the highest proportion of species listed as endangered?\n",
    "- How does the frequency of observations correlate with higher endangerment levels?\n",
    "- Is there a relationship between the parks and the amount of endangered species observed?\n",
    "\n",
    "Import Python Libraries\n",
    "\n",
    "In this step we import several essential Python Libraries that will be used throughout the analysis.\n",
    "\n",
    "- pandas: used for data manipluation and analysis\n",
    "- numpy: used for numerical computing\n",
    "- matplotlib: used for creating visualizations in Python.\n",
    "- seaborn: used for creating visualizations in Python.\n",
    "- glob: used for file pattern matching.\n"
   ]
  },
  {
   "cell_type": "code",
   "execution_count": 3,
   "metadata": {
    "scrolled": true
   },
   "outputs": [],
   "source": [
    "import pandas as pd\n",
    "import numpy as np\n",
    "import matplotlib.pyplot as plt\n",
    "import seaborn as sns\n",
    "import glob\n"
   ]
  },
  {
   "cell_type": "markdown",
   "metadata": {},
   "source": [
    "Data Collection\n",
    "- import datasets\n",
    "- combine datasets into one for streamlined \n",
    "\n",
    "\n",
    "To begin we use the glob module to obtain all of the csv files in the working directory. The code below retrieves a list of the two csv files."
   ]
  },
  {
   "cell_type": "code",
   "execution_count": 4,
   "metadata": {},
   "outputs": [],
   "source": [
    "csv_files = glob.glob('*.csv')"
   ]
  },
  {
   "cell_type": "markdown",
   "metadata": {},
   "source": [
    "We then merged the data from the multiple files into one. We first load the first file into a dataframe df1. Then we read load the second file into a dataframe df. Lastly we merge the two datasets based on a common column, scientific_name using an inner join. This means that we are only keeping species that are present in both datasets, which will preserve consistency within our analysis. Our final dataset includes the columns scientific_name, park_name, observations, category, common_names, and conservation_status."
   ]
  },
  {
   "cell_type": "code",
   "execution_count": 5,
   "metadata": {},
   "outputs": [],
   "source": [
    "common_column = 'scientific_name'\n",
    "df1 = pd.read_csv(csv_files[0])\n",
    "\n",
    "for file in csv_files[1:]:\n",
    "    df = pd.read_csv(file)\n",
    "    df1 = pd.merge(df1, df, on=common_column, how='inner')"
   ]
  },
  {
   "cell_type": "markdown",
   "metadata": {},
   "source": [
    "Data Cleaning and Preprocessing\n",
    "- drop duplicates\n",
    "- check & drop nan values \n",
    "- check & adjust dtypes\n",
    "- Statistical summary for numerical columns\n",
    "- Value count of categorical columns\n",
    "- Final glance at the dataset as whole"
   ]
  },
  {
   "cell_type": "markdown",
   "metadata": {},
   "source": [
    "In the step below we use drop_duplicates() to remove any duplicate lines we might have in our code. We first check df1.info() to check the number of lines in the code. We run df1.drop_duplicates() to remove any duplicates & use df1.info() to check number of lines in database."
   ]
  },
  {
   "cell_type": "code",
   "execution_count": 6,
   "metadata": {},
   "outputs": [
    {
     "name": "stdout",
     "output_type": "stream",
     "text": [
      "<class 'pandas.core.frame.DataFrame'>\n",
      "RangeIndex: 25632 entries, 0 to 25631\n",
      "Data columns (total 6 columns):\n",
      " #   Column               Non-Null Count  Dtype \n",
      "---  ------               --------------  ----- \n",
      " 0   scientific_name      25632 non-null  object\n",
      " 1   park_name            25632 non-null  object\n",
      " 2   observations         25632 non-null  int64 \n",
      " 3   category             25632 non-null  object\n",
      " 4   common_names         25632 non-null  object\n",
      " 5   conservation_status  880 non-null    object\n",
      "dtypes: int64(1), object(5)\n",
      "memory usage: 1.2+ MB\n"
     ]
    }
   ],
   "source": [
    "df1.info()"
   ]
  },
  {
   "cell_type": "code",
   "execution_count": 7,
   "metadata": {},
   "outputs": [],
   "source": [
    "df1 = df1.drop_duplicates()"
   ]
  },
  {
   "cell_type": "code",
   "execution_count": 8,
   "metadata": {},
   "outputs": [
    {
     "name": "stdout",
     "output_type": "stream",
     "text": [
      "<class 'pandas.core.frame.DataFrame'>\n",
      "Index: 25601 entries, 0 to 25631\n",
      "Data columns (total 6 columns):\n",
      " #   Column               Non-Null Count  Dtype \n",
      "---  ------               --------------  ----- \n",
      " 0   scientific_name      25601 non-null  object\n",
      " 1   park_name            25601 non-null  object\n",
      " 2   observations         25601 non-null  int64 \n",
      " 3   category             25601 non-null  object\n",
      " 4   common_names         25601 non-null  object\n",
      " 5   conservation_status  880 non-null    object\n",
      "dtypes: int64(1), object(5)\n",
      "memory usage: 1.4+ MB\n"
     ]
    }
   ],
   "source": [
    "df1.info()"
   ]
  },
  {
   "cell_type": "markdown",
   "metadata": {},
   "source": [
    "We see below that the column conservation_status has many nan entries. To prepare our dataset for analysis the nan entries will be removed from our dataset using dropna(subset=['conservation_status']). Afterwards we use .isnull().sum() again to confirm that there are no more appearances of nan in our dataset. We also use .unique() to check that the nan has been correctly adjusted."
   ]
  },
  {
   "cell_type": "code",
   "execution_count": 9,
   "metadata": {},
   "outputs": [
    {
     "data": {
      "text/plain": [
       "scientific_name            0\n",
       "park_name                  0\n",
       "observations               0\n",
       "category                   0\n",
       "common_names               0\n",
       "conservation_status    24721\n",
       "dtype: int64"
      ]
     },
     "execution_count": 9,
     "metadata": {},
     "output_type": "execute_result"
    }
   ],
   "source": [
    "df1.isnull().sum()"
   ]
  },
  {
   "cell_type": "markdown",
   "metadata": {},
   "source": [
    "In the above table we see a total of 24721 lines that contain a value of nan. To look confirm how to handle the nan values we check to see how the values are spread across other columns of our dataset .value_counts(). The first view below shows that the nan values are evenly distributed among the 4 parks. "
   ]
  },
  {
   "cell_type": "code",
   "execution_count": 10,
   "metadata": {},
   "outputs": [
    {
     "data": {
      "text/plain": [
       "park_name\n",
       "Bryce National Park                    6186\n",
       "Yosemite National Park                 6182\n",
       "Yellowstone National Park              6177\n",
       "Great Smoky Mountains National Park    6176\n",
       "Name: count, dtype: int64"
      ]
     },
     "execution_count": 10,
     "metadata": {},
     "output_type": "execute_result"
    }
   ],
   "source": [
    "missing_category = df1[df1['conservation_status'].isnull()]['park_name'].value_counts()\n",
    "missing_category"
   ]
  },
  {
   "cell_type": "markdown",
   "metadata": {},
   "source": [
    "Below shows the spread of nan values among the different categories of species. The Vascular plants have a very large amount of nan values here compared to the other categories. We will drop the Vascular plants category as the imbalance will "
   ]
  },
  {
   "cell_type": "code",
   "execution_count": 11,
   "metadata": {},
   "outputs": [
    {
     "data": {
      "text/plain": [
       "category\n",
       "Vascular Plant       19350\n",
       "Bird                  2013\n",
       "Nonvascular Plant     1312\n",
       "Mammal                 966\n",
       "Fish                   476\n",
       "Reptile                304\n",
       "Amphibian              300\n",
       "Name: count, dtype: int64"
      ]
     },
     "execution_count": 11,
     "metadata": {},
     "output_type": "execute_result"
    }
   ],
   "source": [
    "missing_conservation_status = df1[df1['conservation_status'].isnull()]['category'].value_counts()\n",
    "missing_conservation_status"
   ]
  },
  {
   "cell_type": "code",
   "execution_count": 12,
   "metadata": {},
   "outputs": [],
   "source": [
    "df1_filtered = df1[df1['category'] != 'Vascular Plant'].copy()"
   ]
  },
  {
   "cell_type": "code",
   "execution_count": 13,
   "metadata": {},
   "outputs": [
    {
     "data": {
      "text/plain": [
       "scientific_name           0\n",
       "park_name                 0\n",
       "observations              0\n",
       "category                  0\n",
       "common_names              0\n",
       "conservation_status    5371\n",
       "dtype: int64"
      ]
     },
     "execution_count": 13,
     "metadata": {},
     "output_type": "execute_result"
    }
   ],
   "source": [
    "df1_filtered.isnull().sum()"
   ]
  },
  {
   "cell_type": "code",
   "execution_count": 14,
   "metadata": {},
   "outputs": [
    {
     "name": "stdout",
     "output_type": "stream",
     "text": [
      "category\n",
      "Bird                 2013\n",
      "Nonvascular Plant    1312\n",
      "Mammal                966\n",
      "Fish                  476\n",
      "Reptile               304\n",
      "Amphibian             300\n",
      "Name: count, dtype: int64\n"
     ]
    }
   ],
   "source": [
    "print(df1_filtered[df1_filtered['conservation_status'].isna()]['category'].value_counts())"
   ]
  },
  {
   "cell_type": "code",
   "execution_count": 15,
   "metadata": {},
   "outputs": [],
   "source": [
    "df1_filtered['conservation_status'] = df1_filtered['conservation_status'].fillna('No entry')"
   ]
  },
  {
   "cell_type": "code",
   "execution_count": 16,
   "metadata": {},
   "outputs": [
    {
     "data": {
      "text/plain": [
       "array(['No entry', 'Species of Concern', 'Threatened', 'Endangered',\n",
       "       'In Recovery'], dtype=object)"
      ]
     },
     "execution_count": 16,
     "metadata": {},
     "output_type": "execute_result"
    }
   ],
   "source": [
    "df1_filtered.conservation_status.unique()"
   ]
  },
  {
   "cell_type": "markdown",
   "metadata": {},
   "source": [
    "With the removal of the Vascular Plant value from the category entry as well as renaming the nan values to a more appropiate value of 'No entry', the dataset is more evenly distributed for analysis. "
   ]
  },
  {
   "cell_type": "markdown",
   "metadata": {},
   "source": [
    "Now we will take a look at all the columns dtypes to help determine what types of charts & plots will be used for visualization. We will also take a look at the descriptive statistics for the numerical column observations. With this we have a better understanding of this column & its range of datapoints. "
   ]
  },
  {
   "cell_type": "code",
   "execution_count": 18,
   "metadata": {
    "scrolled": true
   },
   "outputs": [
    {
     "name": "stdout",
     "output_type": "stream",
     "text": [
      "<class 'pandas.core.frame.DataFrame'>\n",
      "Index: 6067 entries, 4 to 25627\n",
      "Data columns (total 6 columns):\n",
      " #   Column               Non-Null Count  Dtype \n",
      "---  ------               --------------  ----- \n",
      " 0   scientific_name      6067 non-null   object\n",
      " 1   park_name            6067 non-null   object\n",
      " 2   observations         6067 non-null   int64 \n",
      " 3   category             6067 non-null   object\n",
      " 4   common_names         6067 non-null   object\n",
      " 5   conservation_status  6067 non-null   object\n",
      "dtypes: int64(1), object(5)\n",
      "memory usage: 331.8+ KB\n"
     ]
    }
   ],
   "source": [
    "df1_filtered.info()"
   ]
  },
  {
   "cell_type": "markdown",
   "metadata": {},
   "source": [
    "Since the columns conservation_status, category, and park_name are categorical columns, we shall change their types from object to categorical. "
   ]
  },
  {
   "cell_type": "code",
   "execution_count": 47,
   "metadata": {},
   "outputs": [],
   "source": [
    "df1_filtered.park_name = df1_filtered.park_name.astype('category')\n",
    "df1_filtered.category = df1_filtered.category.astype('category')\n",
    "df1_filtered.conservation_status = df1_filtered.conservation_status.astype('category')"
   ]
  },
  {
   "cell_type": "code",
   "execution_count": 48,
   "metadata": {},
   "outputs": [
    {
     "name": "stdout",
     "output_type": "stream",
     "text": [
      "<class 'pandas.core.frame.DataFrame'>\n",
      "Index: 6067 entries, 4 to 25627\n",
      "Data columns (total 6 columns):\n",
      " #   Column               Non-Null Count  Dtype   \n",
      "---  ------               --------------  -----   \n",
      " 0   scientific_name      6067 non-null   object  \n",
      " 1   park_name            6067 non-null   category\n",
      " 2   observations         6067 non-null   int64   \n",
      " 3   category             6067 non-null   category\n",
      " 4   common_names         6067 non-null   object  \n",
      " 5   conservation_status  6067 non-null   category\n",
      "dtypes: category(3), int64(1), object(2)\n",
      "memory usage: 208.0+ KB\n"
     ]
    }
   ],
   "source": [
    "df1_filtered.info()"
   ]
  },
  {
   "cell_type": "code",
   "execution_count": 49,
   "metadata": {},
   "outputs": [
    {
     "data": {
      "text/plain": [
       "['Great Smoky Mountains National Park', 'Yellowstone National Park', 'Bryce National Park', 'Yosemite National Park']\n",
       "Categories (4, object): ['Bryce National Park', 'Great Smoky Mountains National Park', 'Yellowstone National Park', 'Yosemite National Park']"
      ]
     },
     "execution_count": 49,
     "metadata": {},
     "output_type": "execute_result"
    }
   ],
   "source": [
    "df1_filtered.park_name.unique()"
   ]
  },
  {
   "cell_type": "markdown",
   "metadata": {},
   "source": [
    "A quick glance at the memory usage & we can see that the change was able to save memory usage as well as better prepare these columns for analysis. Now we will take a look at the numerical statistics summary of the observations column. We will use .describe(), as well as .value_counts to view a spread/summary of the values in our columns & how they are spread out in our dataset."
   ]
  },
  {
   "cell_type": "code",
   "execution_count": 50,
   "metadata": {},
   "outputs": [
    {
     "data": {
      "text/plain": [
       "count    6067.000000\n",
       "mean      139.880996\n",
       "std        69.861186\n",
       "min        11.000000\n",
       "25%        85.000000\n",
       "50%       122.000000\n",
       "75%       189.000000\n",
       "max       307.000000\n",
       "Name: observations, dtype: float64"
      ]
     },
     "execution_count": 50,
     "metadata": {},
     "output_type": "execute_result"
    }
   ],
   "source": [
    "df1_filtered.observations.describe()"
   ]
  },
  {
   "cell_type": "markdown",
   "metadata": {},
   "source": [
    "The numerical statistics show many different aspects of this column. Some species are seen as few as 11 times while others are seen as many as 307 times within the 7 span. The average amount of observations for a species is about 139.88 times. The standard deviation for the number of observations of the species is about 69.86."
   ]
  },
  {
   "cell_type": "markdown",
   "metadata": {},
   "source": [
    "To get a better undestanding of the distributions of the categorical columns such as conservation_status, category, and park_name, we will use value_counts() to find percentage distributions."
   ]
  },
  {
   "cell_type": "code",
   "execution_count": 51,
   "metadata": {},
   "outputs": [
    {
     "data": {
      "text/plain": [
       "conservation_status\n",
       "No entry              88.53\n",
       "Species of Concern     9.23\n",
       "Endangered             1.25\n",
       "Threatened             0.59\n",
       "In Recovery            0.40\n",
       "Name: proportion, dtype: float64"
      ]
     },
     "execution_count": 51,
     "metadata": {},
     "output_type": "execute_result"
    }
   ],
   "source": [
    "(df1_filtered.conservation_status.value_counts(normalize=True)*100).round(2)"
   ]
  },
  {
   "cell_type": "markdown",
   "metadata": {},
   "source": [
    "In the above we can see that about 88.53% of the species have a conservation status of No entry. Roughly 9.23% are species of concern, 1.25% are endangered, .59% are threatened, & .40% are in recovery. The table below takes a look at the percent distribution of values in each species category."
   ]
  },
  {
   "cell_type": "code",
   "execution_count": 52,
   "metadata": {},
   "outputs": [
    {
     "data": {
      "text/plain": [
       "category\n",
       "Bird                 38.92\n",
       "Nonvascular Plant    21.95\n",
       "Mammal               19.75\n",
       "Fish                  8.64\n",
       "Amphibian             5.41\n",
       "Reptile               5.34\n",
       "Name: proportion, dtype: float64"
      ]
     },
     "execution_count": 52,
     "metadata": {},
     "output_type": "execute_result"
    }
   ],
   "source": [
    "(df1_filtered.category.value_counts(normalize=True)*100).round(2)"
   ]
  },
  {
   "cell_type": "markdown",
   "metadata": {},
   "source": [
    "For the category of the species, the largest percentages of our dataset is Birds at 38.92%, Nonvascular Plants at 21.95%, & Mammals at 19.75%. The least would be fish (8.64%), reptiles (5.41%), & amphibians (5.34%)."
   ]
  },
  {
   "cell_type": "code",
   "execution_count": 53,
   "metadata": {},
   "outputs": [
    {
     "data": {
      "text/plain": [
       "park_name\n",
       "Bryce National Park                    25.02\n",
       "Great Smoky Mountains National Park    25.02\n",
       "Yosemite National Park                 25.02\n",
       "Yellowstone National Park              24.94\n",
       "Name: proportion, dtype: float64"
      ]
     },
     "execution_count": 53,
     "metadata": {},
     "output_type": "execute_result"
    }
   ],
   "source": [
    "(df1_filtered.park_name.value_counts(normalize=True)*100).round(2)"
   ]
  },
  {
   "cell_type": "markdown",
   "metadata": {},
   "source": [
    "The data in our dataset is spread evenly among the four parks as all four provide about 25% of the data."
   ]
  },
  {
   "cell_type": "markdown",
   "metadata": {},
   "source": [
    "To complete this portion of our report, we take one last glance at a few rows of our dataset to confirm that the changes are done & the dataset is ready to be further explored. This concludes our preliminary visualizations & the adjustments needed to have our dataset ready for analysis."
   ]
  },
  {
   "cell_type": "code",
   "execution_count": 54,
   "metadata": {},
   "outputs": [
    {
     "data": {
      "text/html": [
       "<div>\n",
       "<style scoped>\n",
       "    .dataframe tbody tr th:only-of-type {\n",
       "        vertical-align: middle;\n",
       "    }\n",
       "\n",
       "    .dataframe tbody tr th {\n",
       "        vertical-align: top;\n",
       "    }\n",
       "\n",
       "    .dataframe thead th {\n",
       "        text-align: right;\n",
       "    }\n",
       "</style>\n",
       "<table border=\"1\" class=\"dataframe\">\n",
       "  <thead>\n",
       "    <tr style=\"text-align: right;\">\n",
       "      <th></th>\n",
       "      <th>scientific_name</th>\n",
       "      <th>park_name</th>\n",
       "      <th>observations</th>\n",
       "      <th>category</th>\n",
       "      <th>common_names</th>\n",
       "      <th>conservation_status</th>\n",
       "    </tr>\n",
       "  </thead>\n",
       "  <tbody>\n",
       "    <tr>\n",
       "      <th>4</th>\n",
       "      <td>Neovison vison</td>\n",
       "      <td>Great Smoky Mountains National Park</td>\n",
       "      <td>77</td>\n",
       "      <td>Mammal</td>\n",
       "      <td>American Mink</td>\n",
       "      <td>No entry</td>\n",
       "    </tr>\n",
       "    <tr>\n",
       "      <th>5</th>\n",
       "      <td>Neovison vison</td>\n",
       "      <td>Yellowstone National Park</td>\n",
       "      <td>218</td>\n",
       "      <td>Mammal</td>\n",
       "      <td>American Mink</td>\n",
       "      <td>No entry</td>\n",
       "    </tr>\n",
       "    <tr>\n",
       "      <th>6</th>\n",
       "      <td>Neovison vison</td>\n",
       "      <td>Bryce National Park</td>\n",
       "      <td>91</td>\n",
       "      <td>Mammal</td>\n",
       "      <td>American Mink</td>\n",
       "      <td>No entry</td>\n",
       "    </tr>\n",
       "    <tr>\n",
       "      <th>7</th>\n",
       "      <td>Neovison vison</td>\n",
       "      <td>Yosemite National Park</td>\n",
       "      <td>200</td>\n",
       "      <td>Mammal</td>\n",
       "      <td>American Mink</td>\n",
       "      <td>No entry</td>\n",
       "    </tr>\n",
       "    <tr>\n",
       "      <th>24</th>\n",
       "      <td>Spizella pusilla</td>\n",
       "      <td>Yellowstone National Park</td>\n",
       "      <td>228</td>\n",
       "      <td>Bird</td>\n",
       "      <td>Field Sparrow</td>\n",
       "      <td>No entry</td>\n",
       "    </tr>\n",
       "  </tbody>\n",
       "</table>\n",
       "</div>"
      ],
      "text/plain": [
       "     scientific_name                            park_name  observations  \\\n",
       "4     Neovison vison  Great Smoky Mountains National Park            77   \n",
       "5     Neovison vison            Yellowstone National Park           218   \n",
       "6     Neovison vison                  Bryce National Park            91   \n",
       "7     Neovison vison               Yosemite National Park           200   \n",
       "24  Spizella pusilla            Yellowstone National Park           228   \n",
       "\n",
       "   category   common_names conservation_status  \n",
       "4    Mammal  American Mink            No entry  \n",
       "5    Mammal  American Mink            No entry  \n",
       "6    Mammal  American Mink            No entry  \n",
       "7    Mammal  American Mink            No entry  \n",
       "24     Bird  Field Sparrow            No entry  "
      ]
     },
     "execution_count": 54,
     "metadata": {},
     "output_type": "execute_result"
    }
   ],
   "source": [
    "df1_filtered.head(5)"
   ]
  },
  {
   "cell_type": "markdown",
   "metadata": {},
   "source": [
    "Exploratory Data Analysis\n",
    " - Relationships \n",
    "    - correlation between # of observations & category of species\n",
    "    - correlation between category of species & hte conservation status\n",
    "    - correlation between conservation status & # of observations\n",
    " - visualizations - include heatmaps, scatterplots & bar charts"
   ]
  },
  {
   "cell_type": "markdown",
   "metadata": {},
   "source": [
    "Relationship of Conservation Statuses & Species Category"
   ]
  },
  {
   "cell_type": "code",
   "execution_count": 55,
   "metadata": {},
   "outputs": [
    {
     "name": "stdout",
     "output_type": "stream",
     "text": [
      "conservation_status  Endangered  In Recovery  No entry  Species of Concern  \\\n",
      "category                                                                     \n",
      "Nonvascular Plant          0.00         0.00     98.50                1.50   \n",
      "Reptile                    0.00         0.00     93.83                6.17   \n",
      "Amphibian                  1.22         0.00     91.46                4.88   \n",
      "Fish                       2.29         0.00     90.84                3.05   \n",
      "Bird                       0.68         0.51     85.26               13.55   \n",
      "Mammal                     3.67         1.00     80.63               14.02   \n",
      "\n",
      "conservation_status  Threatened  \n",
      "category                         \n",
      "Nonvascular Plant          0.00  \n",
      "Reptile                    0.00  \n",
      "Amphibian                  2.44  \n",
      "Fish                       3.82  \n",
      "Bird                       0.00  \n",
      "Mammal                     0.67  \n"
     ]
    }
   ],
   "source": [
    "category_status = df1_filtered.groupby(['category', 'conservation_status'], observed=False).size().unstack(fill_value=0)\n",
    "category_status_percentage = category_status.div(category_status.sum(axis=1), axis=0)*100\n",
    "category_status_percentage_sorted = category_status_percentage.sort_values(by='No entry', ascending=False)\n",
    "print(category_status_percentage_sorted.round(2))"
   ]
  },
  {
   "cell_type": "markdown",
   "metadata": {},
   "source": [
    "The chart above shows the percentage breakdown of conservation statuses by species category. Sorting by the \"No entry\" category gives a quick overview of species that appear to be in a lesser state of endangerment. Conversely, species with lower values in this category may potentially be more vulnerable to endangerment within this period.\r\n",
    "\r\n",
    "Species that seem most susceptible to endangerment include Mamma &s, BirFh. T least arel, Nonvascular PlantsReptiles, Amphibians, & Fishat. However, it is important to note that this data reflects only a short-term snapshot and does not necessarily reflect the long-term conservation status of these species."
   ]
  },
  {
   "cell_type": "code",
   "execution_count": 56,
   "metadata": {},
   "outputs": [
    {
     "name": "stdout",
     "output_type": "stream",
     "text": [
      "category\n",
      "Bird                 39.07\n",
      "Nonvascular Plant    22.47\n",
      "Mammal               19.16\n",
      "Fish                  8.59\n",
      "Reptile               5.40\n",
      "Amphibian             5.31\n",
      "Name: observations, dtype: float64\n"
     ]
    }
   ],
   "source": [
    "total_category_observations = df1_filtered.groupby('category', observed=False)['observations'].sum()\n",
    "total_category_observations = total_category_observations.sort_values(ascending=False)\n",
    "total_category_observations_percentage = total_category_observations / total_category_observations.sum() * 100\n",
    "print(total_category_observations_percentage.round(2))"
   ]
  },
  {
   "cell_type": "markdown",
   "metadata": {},
   "source": [
    "The chart above shows the percent spread of the number of observations by species. The order is apparent above with Birds, Nonvascular Plants, & mammals being roughly 80% of our dataset. The other 6 categories of species have a range of 5.31-8.59% of the observations within this time period. "
   ]
  },
  {
   "cell_type": "code",
   "execution_count": 57,
   "metadata": {},
   "outputs": [
    {
     "name": "stdout",
     "output_type": "stream",
     "text": [
      "conservation_status\n",
      "No entry              90.56\n",
      "Species of Concern     8.46\n",
      "Endangered             0.39\n",
      "Threatened             0.33\n",
      "In Recovery            0.25\n",
      "Name: observations, dtype: float64\n"
     ]
    }
   ],
   "source": [
    "total_obs_by_conservation_status = df1_filtered.groupby('conservation_status', observed=False)['observations'].sum()\n",
    "total_obs_by_conservation_status = total_obs_by_conservation_status.sort_values(ascending=False)\n",
    "total_obs_by_conservation_status_percentage = total_obs_by_conservation_status / total_obs_by_conservation_status.sum()*100\n",
    "print(total_obs_by_conservation_status_percentage.round(2))"
   ]
  },
  {
   "cell_type": "markdown",
   "metadata": {},
   "source": [
    "This chart above shows the spread of observations throughout our dataset based on the conservation statuses. 90.56% of our observations of species in the timespan of this dataset fall under the category of no entry. 8.46% for Species of Concern, .39% for Endangered, .33% for Threatened, .25% for In Recovery."
   ]
  },
  {
   "cell_type": "markdown",
   "metadata": {},
   "source": [
    "The Stacked Barplot above illustrates well the species categories that have the largest number of endangerment levels. The birds, mammals, & fish all have a much larger proportion of endangered species per # of observations when compared to the other species categories. The birds & mammals also have a larger proportion of species in recovery when compared to the rest of the species categories. We do not get a good glimpse at the proportion of the species that have observations with a conservation status of threatened so we will create another barplot that focuses solely on that conservation status to have a better understanding of the spread. "
   ]
  },
  {
   "cell_type": "markdown",
   "metadata": {},
   "source": [
    "In the above plot we have a clearer visual of the amount of threatened observations each category has. Fish has the most with 20 observations, while amphibian & mammal have roughly 8 threatened observations & the remaining have about 0. "
   ]
  },
  {
   "cell_type": "markdown",
   "metadata": {},
   "source": [
    "Hypothesis Testing\n",
    "\n",
    "- Hypothesis Testing 1: I want to test the correlation between the species category & the conservation status, as well as the number of observations & the conservation status.\n",
    "- \n",
    "Null Hypothesis: There is no correlation between the species category & the conservation status\n",
    "\n",
    "Alternative Hypothesis: There is a correlation between the species category & the conservation status\n",
    "\n",
    "To find the correlation here we will use a Chi-Square test since both columns are categorical."
   ]
  },
  {
   "cell_type": "code",
   "execution_count": 60,
   "metadata": {},
   "outputs": [
    {
     "name": "stdout",
     "output_type": "stream",
     "text": [
      "chi2:  467.23072957474227\n",
      "p value:  2.069526350673758e-86\n",
      "dof:  20\n",
      "expected:  [[4.10878523e+00 1.29751113e+00 2.90372177e+02 3.02752596e+01\n",
      "  1.94626669e+00]\n",
      " [2.95757376e+01 9.33970661e+00 2.09014851e+03 2.17926488e+02\n",
      "  1.40095599e+01]\n",
      " [6.56403494e+00 2.07285314e+00 4.63887259e+02 4.83665733e+01\n",
      "  3.10927971e+00]\n",
      " [1.50070875e+01 4.73908027e+00 1.06056667e+03 1.10578540e+02\n",
      "  7.10862041e+00]\n",
      " [1.66856766e+01 5.26916104e+00 1.17919433e+03 1.22947091e+02\n",
      "  7.90374155e+00]\n",
      " [4.05867809e+00 1.28168782e+00 2.86831053e+02 2.99060491e+01\n",
      "  1.92253173e+00]]\n"
     ]
    }
   ],
   "source": [
    "from scipy.stats import chi2_contingency\n",
    "\n",
    "contingency_tbl2 = pd.crosstab(df1_filtered['category'], df1_filtered['conservation_status'])\n",
    "\n",
    "chi2, p, dof, expected = chi2_contingency(contingency_tbl2)\n",
    "\n",
    "print('chi2: ', chi2)\n",
    "print('p value: ', p)\n",
    "print('dof: ', dof)\n",
    "print('expected: ', expected)"
   ]
  },
  {
   "cell_type": "markdown",
   "metadata": {},
   "source": [
    "The main result from the test that we are focused on here is the p-value, which is a very small number, approximately 0. This indicates that the null hypothesis is to be rejected, giving statistical evidence that there indeed is a correlation between the species category and their conservation status."
   ]
  },
  {
   "cell_type": "markdown",
   "metadata": {},
   "source": [
    "Hypothesis Testing 2: I want to test the number of observations & the conservation status.\n",
    "Null Hypothesis: There is no correlation between the number of observations & the conservation status.\n",
    "Alternative Hypothesis: There is a correlation between the number of observations & the conservation status.\n",
    "\n",
    "A Kruskal-Wallis test will be used to test this hypothesis."
   ]
  },
  {
   "cell_type": "code",
   "execution_count": 61,
   "metadata": {},
   "outputs": [
    {
     "name": "stdout",
     "output_type": "stream",
     "text": [
      "P value:  6.296775191706688e-53\n"
     ]
    }
   ],
   "source": [
    "from scipy.stats import kruskal\n",
    "grouped = df1_filtered.groupby('conservation_status', observed=False)['observations'].apply(list)\n",
    "\n",
    "stat, p_value = kruskal(*grouped)\n",
    "print('P value: ', p_value)"
   ]
  },
  {
   "cell_type": "markdown",
   "metadata": {},
   "source": [
    "## Insights\n",
    "Based on the analysis conducted, the following insights were observed:\n",
    "\n",
    "1. **Conservation Status Trends**: The majority of species are categorized as `Least Concern`, indicating minimal immediate threats. However, categories like `Endangered` and `Threatened` require further attention.\n",
    "\n",
    "2. **Category Observations**: Certain species categories, such as `Mammals` and `Birds`, have higher counts in conservation statuses requiring intervention. These patterns are consistent across the parks.\n",
    "\n",
    "3. **Correlations**: Strong correlations were identified between species observations & conservation status as well as species categories & conservation status.\n"
   ]
  },
  {
   "cell_type": "markdown",
   "metadata": {},
   "source": [
    "## Conclusions\n",
    "From the analysis:\n",
    "\n",
    "- **Policy Implications**: The data supports the prioritization of efforts for species in the `Endangered` and `Threatened` categories. Conservation policies need to be targeted based on species categories and park-specific conditions.\n",
    "\n",
    "- **Future Monitoring**: Regular data collection and monitoring of conservation statuses are critical to track progress and adapt conservation strategies.\n",
    "\n",
    "- **Further Research**: Deeper analysis of environmental factors influencing species health can help predict future trends and potential risks.\n",
    "\n",
    "### Recommendations:\n",
    "- Expand public awareness campaigns to highlight the importance of biodiversity.\n",
    "- Increase funding for conservation programs in parks with higher counts of vulnerable species.\n",
    "- Implement AI-based tools to monitor and predict conservation needs based on observed trends.\n"
   ]
  },
  {
   "cell_type": "markdown",
   "metadata": {},
   "source": [
    "### Distribution of Missing Values by Category\n",
    "A bar chart showing the count of missing values in each category."
   ]
  },
  {
   "cell_type": "code",
   "execution_count": 17,
   "metadata": {},
   "outputs": [
    {
     "data": {
      "image/png": "[encoded data removed]",
      "text/plain": [
       "<Figure size 1000x600 with 1 Axes>"
      ]
     },
     "metadata": {},
     "output_type": "display_data"
    }
   ],
   "source": [
    "\n",
    "df1_filtered['category'].value_counts(dropna=False).plot(kind='bar', color='teal', figsize=(10, 6))\n",
    "plt.title('Count of Missing Values by Category')\n",
    "plt.xlabel('Species Category')\n",
    "plt.ylabel('Count')\n",
    "plt.show()\n",
    "        "
   ]
  },
  {
   "cell_type": "markdown",
   "metadata": {},
   "source": [
    "## Distribution of Threatened Observations by Category\n"
   ]
  },
  {
   "cell_type": "code",
   "execution_count": 59,
   "metadata": {
    "scrolled": true
   },
   "outputs": [
    {
     "data": {
      "image/png": "[encoded data removed]",
      "text/plain": [
       "<Figure size 640x480 with 1 Axes>"
      ]
     },
     "metadata": {},
     "output_type": "display_data"
    },
    {
     "data": {
      "text/plain": [
       "<Figure size 640x480 with 0 Axes>"
      ]
     },
     "metadata": {},
     "output_type": "display_data"
    }
   ],
   "source": [
    "threatened = df1_filtered[df1_filtered['conservation_status'] == 'Threatened']\n",
    "threatened_counts = threatened.groupby('category', observed=False).size()\n",
    "threatened_counts.plot(kind='bar', color='purple')\n",
    "plt.xlabel('Category of Species')\n",
    "plt.ylabel('Count')\n",
    "plt.title('# of Threatened Observations by Category')\n",
    "plt.xticks(rotation=45)\n",
    "plt.tight_layout()\n",
    "plt.show()\n",
    "plt.clf()"
   ]
  },
  {
   "cell_type": "code",
   "execution_count": 32,
   "metadata": {
    "scrolled": true
   },
   "outputs": [
    {
     "data": {
      "image/png": "[encoded data removed]",
      "text/plain": [
       "<Figure size 1000x800 with 1 Axes>"
      ]
     },
     "metadata": {},
     "output_type": "display_data"
    },
    {
     "data": {
      "text/plain": [
       "<Figure size 640x480 with 0 Axes>"
      ]
     },
     "metadata": {},
     "output_type": "display_data"
    }
   ],
   "source": [
    "category_status_obs = df1_filtered.groupby(['category', 'conservation_status'], observed=False)['observations'].sum().unstack()\n",
    "category_status_obs.plot(kind='bar', stacked=True, figsize=(10,8))\n",
    "plt.title('Category of species vs # of Observations')\n",
    "plt.xlabel('Category')\n",
    "plt.ylabel('Number of Observations')\n",
    "plt.xticks(rotation=45)\n",
    "plt.tight_layout()\n",
    "plt.show()\n",
    "plt.clf()"
   ]
  },
  {
   "cell_type": "markdown",
   "metadata": {},
   "source": [
    "## Conservation Status by Category\n",
    "The stacked bar chart below shows the percentage breakdown of conservation statuses by species category."
   ]
  },
  {
   "cell_type": "code",
   "execution_count": 64,
   "metadata": {},
   "outputs": [
    {
     "data": {
      "image/png": "[encoded data removed]",
      "text/plain": [
       "<Figure size 1200x800 with 1 Axes>"
      ]
     },
     "metadata": {},
     "output_type": "display_data"
    }
   ],
   "source": [
    "\n",
    "category_status_percentage_sorted.plot(kind='bar', stacked=True, figsize=(12, 8), colormap='coolwarm')\n",
    "plt.title('Conservation Status by Category (Percentage)')\n",
    "plt.xlabel('Species Category')\n",
    "plt.ylabel('Percentage')\n",
    "plt.legend(title='Conservation Status', bbox_to_anchor=(1.05, 1), loc='upper left')\n",
    "plt.show()\n",
    "        "
   ]
  }
 ],
 "metadata": {
  "kernelspec": {
   "display_name": "Python 3 (ipykernel)",
   "language": "python",
   "name": "python3"
  },
  "language_info": {
   "codemirror_mode": {
    "name": "ipython",
    "version": 3
   },
   "file_extension": ".py",
   "mimetype": "text/x-python",
   "name": "python",
   "nbconvert_exporter": "python",
   "pygments_lexer": "ipython3",
   "version": "3.11.7"
  }
 },
 "nbformat": 4,
 "nbformat_minor": 4
}
